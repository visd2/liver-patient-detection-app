{
 "cells": [
  {
   "cell_type": "code",
   "execution_count": 3,
   "id": "afd5ca3e",
   "metadata": {},
   "outputs": [
    {
     "name": "stdout",
     "output_type": "stream",
     "text": [
      "Accuracy: 0.7521367521367521\n",
      "              precision    recall  f1-score   support\n",
      "\n",
      "           0       0.63      0.35      0.45        34\n",
      "           1       0.78      0.92      0.84        83\n",
      "\n",
      "    accuracy                           0.75       117\n",
      "   macro avg       0.70      0.63      0.65       117\n",
      "weighted avg       0.73      0.75      0.73       117\n",
      "\n",
      "Model & Scaler saved!\n"
     ]
    }
   ],
   "source": [
    "# Import libraries\n",
    "import pandas as pd\n",
    "import numpy as np\n",
    "from sklearn.model_selection import train_test_split\n",
    "from sklearn.preprocessing import StandardScaler\n",
    "from sklearn.ensemble import RandomForestClassifier\n",
    "from sklearn.metrics import accuracy_score, classification_report\n",
    "import joblib\n",
    "\n",
    "# Load dataset\n",
    "df = pd.read_csv(r\"C:\\Users\\visdas\\Downloads\\indian_liver_patient.csv\")\n",
    "\n",
    "# Preprocess\n",
    "df['Gender'] = df['Gender'].map({'Male':1, 'Female':0})\n",
    "df['Dataset'] = df['Dataset'].replace(2, 0)  # Target: 1 = Liver, 0 = Healthy\n",
    "\n",
    "# Handle missing values\n",
    "df.fillna(df.mean(), inplace=True)\n",
    "\n",
    "# Features & target\n",
    "X = df.drop(columns=['Dataset'])\n",
    "y = df['Dataset']\n",
    "\n",
    "# Train-test split\n",
    "X_train, X_test, y_train, y_test = train_test_split(X, y, test_size=0.2, random_state=42, stratify=y)\n",
    "\n",
    "# Scale features\n",
    "scaler = StandardScaler()\n",
    "X_train_scaled = scaler.fit_transform(X_train)\n",
    "X_test_scaled = scaler.transform(X_test)\n",
    "\n",
    "# Train model\n",
    "model = RandomForestClassifier(n_estimators=200, random_state=42)\n",
    "model.fit(X_train_scaled, y_train)\n",
    "\n",
    "# Evaluate\n",
    "y_pred = model.predict(X_test_scaled)\n",
    "print(\"Accuracy:\", accuracy_score(y_test, y_pred))\n",
    "print(classification_report(y_test, y_pred))\n",
    "\n",
    "# Save model & scaler\n",
    "joblib.dump(model, 'liver_model.pkl')\n",
    "joblib.dump(scaler, 'liver_scaler.pkl')\n",
    "print(\"Model & Scaler saved!\")"
   ]
  },
  {
   "cell_type": "code",
   "execution_count": null,
   "id": "4df57607",
   "metadata": {},
   "outputs": [],
   "source": []
  }
 ],
 "metadata": {
  "kernelspec": {
   "display_name": "Python 3",
   "language": "python",
   "name": "python3"
  },
  "language_info": {
   "codemirror_mode": {
    "name": "ipython",
    "version": 3
   },
   "file_extension": ".py",
   "mimetype": "text/x-python",
   "name": "python",
   "nbconvert_exporter": "python",
   "pygments_lexer": "ipython3",
   "version": "3.10.0"
  }
 },
 "nbformat": 4,
 "nbformat_minor": 5
}
